{
  "nbformat": 4,
  "nbformat_minor": 0,
  "metadata": {
    "colab": {
      "name": "FinalCornDeployment.ipynb",
      "provenance": [],
      "collapsed_sections": [],
      "mount_file_id": "1rBDLnax1TBafpKRSaGjiqS80ewLoEhRp",
      "authorship_tag": "ABX9TyO+DzMK9kAD7GKTcsyaWxDr",
      "include_colab_link": true
    },
    "kernelspec": {
      "display_name": "Python 3",
      "name": "python3"
    },
    "language_info": {
      "name": "python"
    }
  },
  "cells": [
    {
      "cell_type": "markdown",
      "metadata": {
        "id": "view-in-github",
        "colab_type": "text"
      },
      "source": [
        "<a href=\"https://colab.research.google.com/github/DrsimpleMugo/Machine-Learning-models/blob/Deployment/FinalCornDeployment.ipynb\" target=\"_parent\"><img src=\"https://colab.research.google.com/assets/colab-badge.svg\" alt=\"Open In Colab\"/></a>"
      ]
    },
    {
      "cell_type": "code",
      "metadata": {
        "colab": {
          "base_uri": "https://localhost:8080/"
        },
        "id": "ia80J_y8UUms",
        "outputId": "6411383d-54ea-4f41-9e0e-a0de45830290"
      },
      "source": [
        "!pip install flask-ngrok"
      ],
      "execution_count": null,
      "outputs": [
        {
          "output_type": "stream",
          "text": [
            "Collecting flask-ngrok\n",
            "  Downloading flask_ngrok-0.0.25-py3-none-any.whl (3.1 kB)\n",
            "Requirement already satisfied: requests in /usr/local/lib/python3.7/dist-packages (from flask-ngrok) (2.23.0)\n",
            "Requirement already satisfied: Flask>=0.8 in /usr/local/lib/python3.7/dist-packages (from flask-ngrok) (1.1.4)\n",
            "Requirement already satisfied: Werkzeug<2.0,>=0.15 in /usr/local/lib/python3.7/dist-packages (from Flask>=0.8->flask-ngrok) (1.0.1)\n",
            "Requirement already satisfied: Jinja2<3.0,>=2.10.1 in /usr/local/lib/python3.7/dist-packages (from Flask>=0.8->flask-ngrok) (2.11.3)\n",
            "Requirement already satisfied: click<8.0,>=5.1 in /usr/local/lib/python3.7/dist-packages (from Flask>=0.8->flask-ngrok) (7.1.2)\n",
            "Requirement already satisfied: itsdangerous<2.0,>=0.24 in /usr/local/lib/python3.7/dist-packages (from Flask>=0.8->flask-ngrok) (1.1.0)\n",
            "Requirement already satisfied: MarkupSafe>=0.23 in /usr/local/lib/python3.7/dist-packages (from Jinja2<3.0,>=2.10.1->Flask>=0.8->flask-ngrok) (2.0.1)\n",
            "Requirement already satisfied: idna<3,>=2.5 in /usr/local/lib/python3.7/dist-packages (from requests->flask-ngrok) (2.10)\n",
            "Requirement already satisfied: certifi>=2017.4.17 in /usr/local/lib/python3.7/dist-packages (from requests->flask-ngrok) (2021.5.30)\n",
            "Requirement already satisfied: urllib3!=1.25.0,!=1.25.1,<1.26,>=1.21.1 in /usr/local/lib/python3.7/dist-packages (from requests->flask-ngrok) (1.24.3)\n",
            "Requirement already satisfied: chardet<4,>=3.0.2 in /usr/local/lib/python3.7/dist-packages (from requests->flask-ngrok) (3.0.4)\n",
            "Installing collected packages: flask-ngrok\n",
            "Successfully installed flask-ngrok-0.0.25\n"
          ],
          "name": "stdout"
        }
      ]
    },
    {
      "cell_type": "code",
      "metadata": {
        "colab": {
          "base_uri": "https://localhost:8080/"
        },
        "id": "S-GOndJLUdWd",
        "outputId": "bf7a3c93-30f2-415f-d326-246fd5f30087"
      },
      "source": [
        "cd /content/drive/MyDrive/CornDeployment"
      ],
      "execution_count": null,
      "outputs": [
        {
          "output_type": "stream",
          "text": [
            "/content/drive/MyDrive/CornDeployment\n"
          ],
          "name": "stdout"
        }
      ]
    },
    {
      "cell_type": "code",
      "metadata": {
        "colab": {
          "base_uri": "https://localhost:8080/"
        },
        "id": "fCAXo1wQUhed",
        "outputId": "62122233-c31b-4343-dd40-c7b7005b13c7"
      },
      "source": [
        "import flask\n",
        "from flask import Flask, render_template, request\n",
        "import numpy as np\n",
        "from flask_ngrok import run_with_ngrok\n",
        "from keras.preprocessing. image import load_img\n",
        "from keras.preprocessing.image import img_to_array\n",
        "from keras.applications import inception_v3\n",
        "from keras.applications.inception_v3 import preprocess_input\n",
        "from tensorflow.keras.models import load_model\n",
        "import warnings\n",
        "warnings.filterwarnings('ignore')\n",
        "print('successful')"
      ],
      "execution_count": null,
      "outputs": [
        {
          "output_type": "stream",
          "text": [
            "successful\n"
          ],
          "name": "stdout"
        }
      ]
    },
    {
      "cell_type": "code",
      "metadata": {
        "colab": {
          "base_uri": "https://localhost:8080/"
        },
        "id": "gSccOdxAUk34",
        "outputId": "9cd8f0b1-febd-4774-b1ea-507ecd4d60e4"
      },
      "source": [
        "from __future__ import division,print_function\n",
        "import numpy as np\n",
        "import tensorflow as tf\n",
        "import sys\n",
        "import os\n",
        "import glob\n",
        "import re\n",
        "\n",
        "# This block of code is used if you are going to deploy your model in Nvidi GPU if you don't have it then you can skip these codes\n",
        "\n",
        "from tensorflow.compat.v1 import ConfigProto\n",
        "from tensorflow.python.keras.backend import set_session\n",
        "\n",
        "\n",
        "tf.keras.backend.clear_session()\n",
        "config = tf.compat.v1.ConfigProto(gpu_options = \n",
        "                         tf.compat.v1.GPUOptions(per_process_gpu_memory_fraction=0.9)\n",
        ")\n",
        "config.gpu_options.allow_growth = True\n",
        "session = tf.compat.v1.Session(config=config)\n",
        "tf.compat.v1.keras.backend.set_session(session)\n",
        "\n",
        "# Upto here \n",
        "\n",
        "\n",
        "from tensorflow.keras.applications.inception_v3 import preprocess_input, decode_predictions\n",
        "from tensorflow.keras.models import load_model\n",
        "from tensorflow.keras.layers import Dense\n",
        "from tensorflow.keras.preprocessing import image\n",
        "\n",
        "from flask import Flask,redirect,url_for,request,render_template\n",
        "from werkzeug.utils import secure_filename\n",
        "\n",
        "\n",
        "# Define a Flask App\n",
        "app = Flask(__name__)\n",
        "run_with_ngrok(app)\n",
        "\n",
        "# Load model\n",
        "# graph = tf.get_default_graph()\n",
        "model_path = 'corn.h5'\n",
        "model = load_model(model_path)\n",
        "#model.summary()\n",
        "#model._make_predict_function()  #Necessary for imagenet weights \n",
        "# If model._make_predict_funciton() throws you error then you can discard this line and comment it.\n",
        "\n",
        "\n",
        "def model_predict(img_path,model):\n",
        "  img = image.load_img(img_path,target_size=(224,224))\n",
        "  x = image.img_to_array(img)\n",
        "  x = np.expand_dims(x,axis=0)\n",
        "  x = x/255\n",
        "  x = preprocess_input(x)\n",
        "  predictions = Dense(4, activation='softmax')(x)\n",
        "  preds = model.predict(x)\n",
        "  return preds\n",
        "\n",
        "\n",
        "@app.route('/',methods = ['GET'])\n",
        "def index():\n",
        "\t# Main page\n",
        "\treturn render_template('./index.html')\n",
        "\n",
        "\n",
        "@app.route('/',methods=[\"POST\",\"GET\"])\n",
        "def upload():\n",
        "  if request.method=='POST':\n",
        "    f = request.files['file']\n",
        "    print(f)\n",
        "    file_path = \"/content/drive/MyDrive/CornDeployment/templates/images\" + f.filename\n",
        "    f.save(file_path)\n",
        "    preds = model_predict(file_path,model)\n",
        "    print(preds)\n",
        "\n",
        "    result = np.argmax(preds, axis = 1)\n",
        "\n",
        "    if result == 0:\n",
        "      result = 'Corn Blight'\n",
        "    elif result == 1:\n",
        "      result = 'Common Rust'\n",
        "    elif result == 2:\n",
        "      result = 'Gray Leaf Spot'\n",
        "    else:\n",
        "      result = 'Healthy'\n",
        "\n",
        "    return render_template('./predict.html',result=result)\n",
        "  else:\n",
        "    return render_template('./index.html')\n",
        "\n",
        "app.run()"
      ],
      "execution_count": null,
      "outputs": [
        {
          "output_type": "stream",
          "text": [
            " * Serving Flask app \"__main__\" (lazy loading)\n",
            " * Environment: production\n",
            "\u001b[31m   WARNING: This is a development server. Do not use it in a production deployment.\u001b[0m\n",
            "\u001b[2m   Use a production WSGI server instead.\u001b[0m\n",
            " * Debug mode: off\n"
          ],
          "name": "stdout"
        },
        {
          "output_type": "stream",
          "text": [
            " * Running on http://127.0.0.1:5000/ (Press CTRL+C to quit)\n"
          ],
          "name": "stderr"
        },
        {
          "output_type": "stream",
          "text": [
            " * Running on http://929ff493b017.ngrok.io\n",
            " * Traffic stats available on http://127.0.0.1:4040\n"
          ],
          "name": "stdout"
        },
        {
          "output_type": "stream",
          "text": [
            "127.0.0.1 - - [16/Aug/2021 06:27:00] \"\u001b[37mGET / HTTP/1.1\u001b[0m\" 200 -\n",
            "127.0.0.1 - - [16/Aug/2021 06:27:01] \"\u001b[37mGET /static/css/main.css HTTP/1.1\u001b[0m\" 200 -\n",
            "127.0.0.1 - - [16/Aug/2021 06:27:01] \"\u001b[37mGET / HTTP/1.1\u001b[0m\" 200 -\n",
            "127.0.0.1 - - [16/Aug/2021 06:27:03] \"\u001b[33mGET /favicon.ico HTTP/1.1\u001b[0m\" 404 -\n",
            "127.0.0.1 - - [16/Aug/2021 06:27:03] \"\u001b[37mGET /static/css/main.css HTTP/1.1\u001b[0m\" 200 -\n",
            "127.0.0.1 - - [16/Aug/2021 06:42:38] \"\u001b[37mGET / HTTP/1.1\u001b[0m\" 200 -\n",
            "127.0.0.1 - - [16/Aug/2021 06:42:39] \"\u001b[33mGET /favicon.ico HTTP/1.1\u001b[0m\" 404 -\n"
          ],
          "name": "stderr"
        },
        {
          "output_type": "stream",
          "text": [
            "<FileStorage: 'Corn_Common_Rust (1256).JPG' ('image/jpeg')>\n",
            "[[0.00621276 0.98970336 0.00232762 0.00175617]]\n"
          ],
          "name": "stdout"
        },
        {
          "output_type": "stream",
          "text": [
            "127.0.0.1 - - [16/Aug/2021 06:43:17] \"\u001b[37mPOST / HTTP/1.1\u001b[0m\" 200 -\n"
          ],
          "name": "stderr"
        }
      ]
    }
  ]
}